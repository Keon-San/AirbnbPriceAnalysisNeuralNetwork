{
 "cells": [
  {
   "cell_type": "code",
   "execution_count": 4,
   "metadata": {},
   "outputs": [
    {
     "name": "stdout",
     "output_type": "stream",
     "text": [
      "Checking whether there is an H2O instance running at http://localhost:54321 . connected.\n"
     ]
    },
    {
     "data": {
      "text/html": [
       "<div style=\"overflow:auto\"><table style=\"width:50%\"><tr><td>H2O_cluster_uptime:</td>\n",
       "<td>2 mins 31 secs</td></tr>\n",
       "<tr><td>H2O_cluster_timezone:</td>\n",
       "<td>America/New_York</td></tr>\n",
       "<tr><td>H2O_data_parsing_timezone:</td>\n",
       "<td>UTC</td></tr>\n",
       "<tr><td>H2O_cluster_version:</td>\n",
       "<td>3.30.0.4</td></tr>\n",
       "<tr><td>H2O_cluster_version_age:</td>\n",
       "<td>13 days </td></tr>\n",
       "<tr><td>H2O_cluster_name:</td>\n",
       "<td>H2O_from_python_abrahamq_mqtvjb</td></tr>\n",
       "<tr><td>H2O_cluster_total_nodes:</td>\n",
       "<td>1</td></tr>\n",
       "<tr><td>H2O_cluster_free_memory:</td>\n",
       "<td>4 Gb</td></tr>\n",
       "<tr><td>H2O_cluster_total_cores:</td>\n",
       "<td>8</td></tr>\n",
       "<tr><td>H2O_cluster_allowed_cores:</td>\n",
       "<td>8</td></tr>\n",
       "<tr><td>H2O_cluster_status:</td>\n",
       "<td>locked, healthy</td></tr>\n",
       "<tr><td>H2O_connection_url:</td>\n",
       "<td>http://localhost:54321</td></tr>\n",
       "<tr><td>H2O_connection_proxy:</td>\n",
       "<td>{\"http\": null, \"https\": null}</td></tr>\n",
       "<tr><td>H2O_internal_security:</td>\n",
       "<td>False</td></tr>\n",
       "<tr><td>H2O_API_Extensions:</td>\n",
       "<td>Amazon S3, XGBoost, Algos, AutoML, Core V3, TargetEncoder, Core V4</td></tr>\n",
       "<tr><td>Python_version:</td>\n",
       "<td>3.8.1 final</td></tr></table></div>"
      ],
      "text/plain": [
       "--------------------------  ------------------------------------------------------------------\n",
       "H2O_cluster_uptime:         2 mins 31 secs\n",
       "H2O_cluster_timezone:       America/New_York\n",
       "H2O_data_parsing_timezone:  UTC\n",
       "H2O_cluster_version:        3.30.0.4\n",
       "H2O_cluster_version_age:    13 days\n",
       "H2O_cluster_name:           H2O_from_python_abrahamq_mqtvjb\n",
       "H2O_cluster_total_nodes:    1\n",
       "H2O_cluster_free_memory:    4 Gb\n",
       "H2O_cluster_total_cores:    8\n",
       "H2O_cluster_allowed_cores:  8\n",
       "H2O_cluster_status:         locked, healthy\n",
       "H2O_connection_url:         http://localhost:54321\n",
       "H2O_connection_proxy:       {\"http\": null, \"https\": null}\n",
       "H2O_internal_security:      False\n",
       "H2O_API_Extensions:         Amazon S3, XGBoost, Algos, AutoML, Core V3, TargetEncoder, Core V4\n",
       "Python_version:             3.8.1 final\n",
       "--------------------------  ------------------------------------------------------------------"
      ]
     },
     "metadata": {},
     "output_type": "display_data"
    }
   ],
   "source": [
    "import h2o\n",
    "import pandas as pd\n",
    "from h2o.automl import H2OAutoML as auto\n",
    "\n",
    "h2o.init()"
   ]
  },
  {
   "cell_type": "code",
   "execution_count": 8,
   "metadata": {},
   "outputs": [
    {
     "name": "stdout",
     "output_type": "stream",
     "text": [
      "Parse progress: |█████████████████████████████████████████████████████████| 100%\n"
     ]
    }
   ],
   "source": [
    "df = h2o.import_file('./AB_NYC_2019.csv')"
   ]
  },
  {
   "cell_type": "code",
   "execution_count": 9,
   "metadata": {},
   "outputs": [
    {
     "name": "stdout",
     "output_type": "stream",
     "text": [
      "Rows:39141\n",
      "Cols:16\n",
      "\n",
      "\n"
     ]
    },
    {
     "data": {
      "text/html": [
       "<table>\n",
       "<thead>\n",
       "<tr><th>       </th><th>id                </th><th>name                                            </th><th>host_id          </th><th>host_name  </th><th>neighbourhood_group  </th><th>neighbourhood  </th><th>latitude           </th><th>longitude           </th><th>room_type      </th><th>price             </th><th>minimum_nights    </th><th>number_of_reviews  </th><th>last_review        </th><th>reviews_per_month  </th><th>calculated_host_listings_count  </th><th>availability_365  </th></tr>\n",
       "</thead>\n",
       "<tbody>\n",
       "<tr><td>type   </td><td>int               </td><td>string                                          </td><td>int              </td><td>enum       </td><td>enum                 </td><td>enum           </td><td>real               </td><td>real                </td><td>enum           </td><td>int               </td><td>int               </td><td>int                </td><td>time               </td><td>real               </td><td>int                             </td><td>int               </td></tr>\n",
       "<tr><td>mins   </td><td>2539.0            </td><td>NaN                                             </td><td>2438.0           </td><td>           </td><td>                     </td><td>               </td><td>40.49979           </td><td>-74.24442           </td><td>               </td><td>0.0               </td><td>1.0               </td><td>0.0                </td><td>1301270400000.0    </td><td>0.01               </td><td>1.0                             </td><td>0.0               </td></tr>\n",
       "<tr><td>mean   </td><td>19031864.6080325  </td><td>NaN                                             </td><td>67665346.12074298</td><td>           </td><td>                     </td><td>               </td><td>40.72902102603408  </td><td>-73.95223450116245  </td><td>               </td><td>153.12368105056075</td><td>6.931682890064127 </td><td>23.313609769806597 </td><td>1538632399742.6328 </td><td>1.3697336250160856 </td><td>7.165427556781888               </td><td>112.87790296619913</td></tr>\n",
       "<tr><td>maxs   </td><td>36487245.0        </td><td>NaN                                             </td><td>274321313.0      </td><td>           </td><td>                     </td><td>               </td><td>40.91306           </td><td>-73.71299           </td><td>               </td><td>10000.0           </td><td>1250.0            </td><td>629.0              </td><td>1562544000000.0    </td><td>58.5               </td><td>327.0                           </td><td>365.0             </td></tr>\n",
       "<tr><td>sigma  </td><td>10972956.787234876</td><td>NaN                                             </td><td>78666435.27676442</td><td>           </td><td>                     </td><td>               </td><td>0.05438318013531324</td><td>0.046195349001672506</td><td>               </td><td>243.44289617067102</td><td>20.625026173345855</td><td>44.767616475839304 </td><td>35724818112.46491  </td><td>1.6788368751511504 </td><td>33.19373530932663               </td><td>131.72862539535865</td></tr>\n",
       "<tr><td>zeros  </td><td>0                 </td><td>0                                               </td><td>0                </td><td>           </td><td>                     </td><td>               </td><td>0                  </td><td>0                   </td><td>               </td><td>5                 </td><td>0                 </td><td>8057               </td><td>0                  </td><td>0                  </td><td>0                               </td><td>14059             </td></tr>\n",
       "<tr><td>missing</td><td>0                 </td><td>0                                               </td><td>0                </td><td>14         </td><td>0                    </td><td>0              </td><td>0                  </td><td>0                   </td><td>0              </td><td>0                 </td><td>0                 </td><td>0                  </td><td>8057               </td><td>8057               </td><td>0                               </td><td>0                 </td></tr>\n",
       "<tr><td>0      </td><td>2539.0            </td><td>Clean &amp; quiet apt home by the park              </td><td>2787.0           </td><td>John       </td><td>Brooklyn             </td><td>Kensington     </td><td>40.64749           </td><td>-73.97237           </td><td>Private room   </td><td>149.0             </td><td>1.0               </td><td>9.0                </td><td>2018-10-19 00:00:00</td><td>0.21               </td><td>6.0                             </td><td>365.0             </td></tr>\n",
       "<tr><td>1      </td><td>2595.0            </td><td>Skylit Midtown Castle                           </td><td>2845.0           </td><td>Jennifer   </td><td>Manhattan            </td><td>Midtown        </td><td>40.75362           </td><td>-73.98377           </td><td>Entire home/apt</td><td>225.0             </td><td>1.0               </td><td>45.0               </td><td>2019-05-21 00:00:00</td><td>0.38               </td><td>2.0                             </td><td>355.0             </td></tr>\n",
       "<tr><td>2      </td><td>3647.0            </td><td>THE VILLAGE OF HARLEM....NEW YORK !             </td><td>4632.0           </td><td>Elisabeth  </td><td>Manhattan            </td><td>Harlem         </td><td>40.80902           </td><td>-73.9419            </td><td>Private room   </td><td>150.0             </td><td>3.0               </td><td>0.0                </td><td>                   </td><td>nan                </td><td>1.0                             </td><td>365.0             </td></tr>\n",
       "<tr><td>3      </td><td>3831.0            </td><td>Cozy Entire Floor of Brownstone                 </td><td>4869.0           </td><td>LisaRoxanne</td><td>Brooklyn             </td><td>Clinton Hill   </td><td>40.68514           </td><td>-73.95976           </td><td>Entire home/apt</td><td>89.0              </td><td>1.0               </td><td>270.0              </td><td>2019-07-05 00:00:00</td><td>4.64               </td><td>1.0                             </td><td>194.0             </td></tr>\n",
       "<tr><td>4      </td><td>5022.0            </td><td>Entire Apt: Spacious Studio/Loft by central park</td><td>7192.0           </td><td>Laura      </td><td>Manhattan            </td><td>East Harlem    </td><td>40.79851           </td><td>-73.94399           </td><td>Entire home/apt</td><td>80.0              </td><td>10.0              </td><td>9.0                </td><td>2018-11-19 00:00:00</td><td>0.1                </td><td>1.0                             </td><td>0.0               </td></tr>\n",
       "<tr><td>5      </td><td>5099.0            </td><td>Large Cozy 1 BR Apartment In Midtown East       </td><td>7322.0           </td><td>Chris      </td><td>Manhattan            </td><td>Murray Hill    </td><td>40.74767           </td><td>-73.975             </td><td>Entire home/apt</td><td>200.0             </td><td>3.0               </td><td>74.0               </td><td>2019-06-22 00:00:00</td><td>0.59               </td><td>1.0                             </td><td>129.0             </td></tr>\n",
       "<tr><td>6      </td><td>5178.0            </td><td>Large Furnished Room Near B&#x27;way                 </td><td>8967.0           </td><td>Shunichi   </td><td>Manhattan            </td><td>Hell&#x27;s Kitchen </td><td>40.76489           </td><td>-73.98493           </td><td>Private room   </td><td>79.0              </td><td>2.0               </td><td>430.0              </td><td>2019-06-24 00:00:00</td><td>3.47               </td><td>1.0                             </td><td>220.0             </td></tr>\n",
       "<tr><td>7      </td><td>5203.0            </td><td>Cozy Clean Guest Room - Family Apt              </td><td>7490.0           </td><td>MaryEllen  </td><td>Manhattan            </td><td>Upper West Side</td><td>40.80178           </td><td>-73.96723           </td><td>Private room   </td><td>79.0              </td><td>2.0               </td><td>118.0              </td><td>2017-07-21 00:00:00</td><td>0.99               </td><td>1.0                             </td><td>0.0               </td></tr>\n",
       "<tr><td>8      </td><td>5238.0            </td><td>Cute &amp; Cozy Lower East Side 1 bdrm              </td><td>7549.0           </td><td>Ben        </td><td>Manhattan            </td><td>Chinatown      </td><td>40.71344           </td><td>-73.99037           </td><td>Entire home/apt</td><td>150.0             </td><td>1.0               </td><td>160.0              </td><td>2019-06-09 00:00:00</td><td>1.33               </td><td>4.0                             </td><td>188.0             </td></tr>\n",
       "<tr><td>9      </td><td>5441.0            </td><td>Central Manhattan/near Broadway                 </td><td>7989.0           </td><td>Kate       </td><td>Manhattan            </td><td>Hell&#x27;s Kitchen </td><td>40.76076           </td><td>-73.98867           </td><td>Private room   </td><td>85.0              </td><td>2.0               </td><td>188.0              </td><td>2019-06-23 00:00:00</td><td>1.5                </td><td>1.0                             </td><td>39.0              </td></tr>\n",
       "</tbody>\n",
       "</table>"
      ]
     },
     "metadata": {},
     "output_type": "display_data"
    }
   ],
   "source": [
    "train, test = df.split_frame(ratios=[.8])\n",
    "train.describe()"
   ]
  },
  {
   "cell_type": "code",
   "execution_count": 13,
   "metadata": {},
   "outputs": [
    {
     "name": "stdout",
     "output_type": "stream",
     "text": [
      "AutoML progress: |████████████████████████████████████████████████████████| 100%\n",
      "\n",
      "ModelMetricsRegressionGLM: stackedensemble\n",
      "** Reported on test data. **\n",
      "\n",
      "MSE: 40344.56275188818\n",
      "RMSE: 200.85955977221542\n",
      "MAE: 62.024142099240656\n",
      "RMSLE: NaN\n",
      "R^2: 0.21338555788434643\n",
      "Mean Residual Deviance: 40344.56275188818\n",
      "Null degrees of freedom: 9753\n",
      "Residual degrees of freedom: 9735\n",
      "Null deviance: 500311404.9111063\n",
      "Residual deviance: 393520865.0819173\n",
      "AIC: 131163.88990024745\n",
      "\n"
     ]
    }
   ],
   "source": [
    "y = 'price'\n",
    "aml = auto(max_runtime_secs=3600, seed=1)\n",
    "aml.train(y=y, training_frame=train)\n",
    "perf = aml.leader.model_performance(test)\n",
    "print(perf)"
   ]
  },
  {
   "cell_type": "code",
   "execution_count": 14,
   "metadata": {},
   "outputs": [
    {
     "data": {
      "text/html": [
       "<table>\n",
       "<thead>\n",
       "<tr><th>model_id                                           </th><th style=\"text-align: right;\">  mean_residual_deviance</th><th style=\"text-align: right;\">   rmse</th><th style=\"text-align: right;\">    mse</th><th style=\"text-align: right;\">    mae</th><th style=\"text-align: right;\">  rmsle</th></tr>\n",
       "</thead>\n",
       "<tbody>\n",
       "<tr><td>StackedEnsemble_AllModels_AutoML_20200614_211140   </td><td style=\"text-align: right;\">                 44765.3</td><td style=\"text-align: right;\">211.578</td><td style=\"text-align: right;\">44765.3</td><td style=\"text-align: right;\">64.2173</td><td style=\"text-align: right;\">    nan</td></tr>\n",
       "<tr><td>StackedEnsemble_BestOfFamily_AutoML_20200614_211140</td><td style=\"text-align: right;\">                 45303.2</td><td style=\"text-align: right;\">212.845</td><td style=\"text-align: right;\">45303.2</td><td style=\"text-align: right;\">64.4457</td><td style=\"text-align: right;\">    nan</td></tr>\n",
       "<tr><td>GBM_grid__1_AutoML_20200614_211140_model_28        </td><td style=\"text-align: right;\">                 46382.1</td><td style=\"text-align: right;\">215.365</td><td style=\"text-align: right;\">46382.1</td><td style=\"text-align: right;\">65.255 </td><td style=\"text-align: right;\">    nan</td></tr>\n",
       "<tr><td>GBM_1_AutoML_20200614_211140                       </td><td style=\"text-align: right;\">                 46477  </td><td style=\"text-align: right;\">215.585</td><td style=\"text-align: right;\">46477  </td><td style=\"text-align: right;\">65.8698</td><td style=\"text-align: right;\">    nan</td></tr>\n",
       "<tr><td>XGBoost_grid__1_AutoML_20200614_211140_model_14    </td><td style=\"text-align: right;\">                 46509.8</td><td style=\"text-align: right;\">215.661</td><td style=\"text-align: right;\">46509.8</td><td style=\"text-align: right;\">64.9971</td><td style=\"text-align: right;\">    nan</td></tr>\n",
       "<tr><td>GBM_grid__1_AutoML_20200614_211140_model_56        </td><td style=\"text-align: right;\">                 46531.6</td><td style=\"text-align: right;\">215.712</td><td style=\"text-align: right;\">46531.6</td><td style=\"text-align: right;\">68.8156</td><td style=\"text-align: right;\">    nan</td></tr>\n",
       "<tr><td>XGBoost_grid__1_AutoML_20200614_211140_model_40    </td><td style=\"text-align: right;\">                 46806.7</td><td style=\"text-align: right;\">216.348</td><td style=\"text-align: right;\">46806.7</td><td style=\"text-align: right;\">63.6318</td><td style=\"text-align: right;\">    nan</td></tr>\n",
       "<tr><td>GBM_grid__1_AutoML_20200614_211140_model_54        </td><td style=\"text-align: right;\">                 46845.3</td><td style=\"text-align: right;\">216.438</td><td style=\"text-align: right;\">46845.3</td><td style=\"text-align: right;\">66.5005</td><td style=\"text-align: right;\">    nan</td></tr>\n",
       "<tr><td>XGBoost_grid__1_AutoML_20200614_211140_model_12    </td><td style=\"text-align: right;\">                 46877.8</td><td style=\"text-align: right;\">216.513</td><td style=\"text-align: right;\">46877.8</td><td style=\"text-align: right;\">63.7066</td><td style=\"text-align: right;\">    nan</td></tr>\n",
       "<tr><td>XGBoost_grid__1_AutoML_20200614_211140_model_28    </td><td style=\"text-align: right;\">                 46997.7</td><td style=\"text-align: right;\">216.79 </td><td style=\"text-align: right;\">46997.7</td><td style=\"text-align: right;\">66.3104</td><td style=\"text-align: right;\">    nan</td></tr>\n",
       "</tbody>\n",
       "</table>"
      ]
     },
     "metadata": {},
     "output_type": "display_data"
    },
    {
     "data": {
      "text/plain": []
     },
     "execution_count": 14,
     "metadata": {},
     "output_type": "execute_result"
    }
   ],
   "source": [
    "aml.leaderboard.head()"
   ]
  }
 ],
 "metadata": {
  "kernelspec": {
   "display_name": "airbnb",
   "language": "python",
   "name": "_python"
  },
  "language_info": {
   "codemirror_mode": {
    "name": "ipython",
    "version": 3
   },
   "file_extension": ".py",
   "mimetype": "text/x-python",
   "name": "python",
   "nbconvert_exporter": "python",
   "pygments_lexer": "ipython3",
   "version": "3.8.1"
  }
 },
 "nbformat": 4,
 "nbformat_minor": 4
}
